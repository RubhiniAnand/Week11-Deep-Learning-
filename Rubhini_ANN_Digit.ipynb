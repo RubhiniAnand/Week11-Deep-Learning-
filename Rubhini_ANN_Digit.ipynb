{
 "cells": [
  {
   "cell_type": "code",
   "execution_count": 1,
   "id": "67d5fa54-3985-43b8-927d-f89d88e05eed",
   "metadata": {},
   "outputs": [],
   "source": [
    "# Basic Libraries\n",
    "import numpy as np\n",
    "import pandas as pd\n",
    "\n",
    "# Visualization libraries\n",
    "import matplotlib.pyplot as plt\n",
    "import pydot\n",
    "import seaborn as sns\n",
    "\n",
    "#Evaluation library\n",
    "from sklearn.metrics import confusion_matrix\n",
    "from sklearn.metrics import accuracy_score\n",
    "from sklearn.model_selection import GridSearchCV\n",
    "\n",
    "# Deep Learning libraries\n",
    "import tensorflow as tf\n",
    "from tensorflow.keras import layers\n",
    "import keras\n",
    "from keras.models import Sequential\n",
    "from keras.layers.core import Dense,Activation,Dropout\n",
    "from keras.datasets import mnist\n",
    "from keras.utils.np_utils import to_categorical\n",
    "from keras.wrappers.scikit_learn import KerasClassifier"
   ]
  },
  {
   "cell_type": "code",
   "execution_count": 2,
   "id": "865d0a8c-6e40-47e0-91ba-0f042b0799c4",
   "metadata": {},
   "outputs": [],
   "source": [
    "#loading the dataset\n",
    "#loaded dataset returns training and testing images\n",
    "(X_train_digit, y_train_digit), (X_test_digit, y_test_digit) = mnist.load_data()"
   ]
  },
  {
   "cell_type": "code",
   "execution_count": 3,
   "id": "e4a5c109-a113-433a-b00b-edf4bf3d0136",
   "metadata": {},
   "outputs": [
    {
     "data": {
      "text/plain": [
       "array([[  0,   0,   0,   0,   0,   0,   0,   0,   0,   0,   0,   0,   0,\n",
       "          0,   0,   0,   0,   0,   0,   0,   0,   0,   0,   0,   0,   0,\n",
       "          0,   0],\n",
       "       [  0,   0,   0,   0,   0,   0,   0,   0,   0,   0,   0,   0,   0,\n",
       "          0,   0,   0,   0,   0,   0,   0,   0,   0,   0,   0,   0,   0,\n",
       "          0,   0],\n",
       "       [  0,   0,   0,   0,   0,   0,   0,   0,   0,   0,   0,   0,   0,\n",
       "          0,   0,   0,   0,   0,   0,   0,   0,   0,   0,   0,   0,   0,\n",
       "          0,   0],\n",
       "       [  0,   0,   0,   0,   0,   0,   0,   0,   0,   0,   0,   0,   0,\n",
       "          0,   0,   0,   0,   0,   0,   0,   0,   0,   0,   0,   0,   0,\n",
       "          0,   0],\n",
       "       [  0,   0,   0,   0,   0,   0,   0,   0,   0,   0,   0,   0,   0,\n",
       "          0,   0,   0,   0,   0,   0,   0,   0,   0,   0,   0,   0,   0,\n",
       "          0,   0],\n",
       "       [  0,   0,   0,   0,   0,   0,   0,   0,   0,   0,   0,   0,   0,\n",
       "          0,   0,   0,   0,   0,   0,   0,  67, 232,  39,   0,   0,   0,\n",
       "          0,   0],\n",
       "       [  0,   0,   0,   0,  62,  81,   0,   0,   0,   0,   0,   0,   0,\n",
       "          0,   0,   0,   0,   0,   0,   0, 120, 180,  39,   0,   0,   0,\n",
       "          0,   0],\n",
       "       [  0,   0,   0,   0, 126, 163,   0,   0,   0,   0,   0,   0,   0,\n",
       "          0,   0,   0,   0,   0,   0,   2, 153, 210,  40,   0,   0,   0,\n",
       "          0,   0],\n",
       "       [  0,   0,   0,   0, 220, 163,   0,   0,   0,   0,   0,   0,   0,\n",
       "          0,   0,   0,   0,   0,   0,  27, 254, 162,   0,   0,   0,   0,\n",
       "          0,   0],\n",
       "       [  0,   0,   0,   0, 222, 163,   0,   0,   0,   0,   0,   0,   0,\n",
       "          0,   0,   0,   0,   0,   0, 183, 254, 125,   0,   0,   0,   0,\n",
       "          0,   0],\n",
       "       [  0,   0,   0,  46, 245, 163,   0,   0,   0,   0,   0,   0,   0,\n",
       "          0,   0,   0,   0,   0,   0, 198, 254,  56,   0,   0,   0,   0,\n",
       "          0,   0],\n",
       "       [  0,   0,   0, 120, 254, 163,   0,   0,   0,   0,   0,   0,   0,\n",
       "          0,   0,   0,   0,   0,  23, 231, 254,  29,   0,   0,   0,   0,\n",
       "          0,   0],\n",
       "       [  0,   0,   0, 159, 254, 120,   0,   0,   0,   0,   0,   0,   0,\n",
       "          0,   0,   0,   0,   0, 163, 254, 216,  16,   0,   0,   0,   0,\n",
       "          0,   0],\n",
       "       [  0,   0,   0, 159, 254,  67,   0,   0,   0,   0,   0,   0,   0,\n",
       "          0,   0,  14,  86, 178, 248, 254,  91,   0,   0,   0,   0,   0,\n",
       "          0,   0],\n",
       "       [  0,   0,   0, 159, 254,  85,   0,   0,   0,  47,  49, 116, 144,\n",
       "        150, 241, 243, 234, 179, 241, 252,  40,   0,   0,   0,   0,   0,\n",
       "          0,   0],\n",
       "       [  0,   0,   0, 150, 253, 237, 207, 207, 207, 253, 254, 250, 240,\n",
       "        198, 143,  91,  28,   5, 233, 250,   0,   0,   0,   0,   0,   0,\n",
       "          0,   0],\n",
       "       [  0,   0,   0,   0, 119, 177, 177, 177, 177, 177,  98,  56,   0,\n",
       "          0,   0,   0,   0, 102, 254, 220,   0,   0,   0,   0,   0,   0,\n",
       "          0,   0],\n",
       "       [  0,   0,   0,   0,   0,   0,   0,   0,   0,   0,   0,   0,   0,\n",
       "          0,   0,   0,   0, 169, 254, 137,   0,   0,   0,   0,   0,   0,\n",
       "          0,   0],\n",
       "       [  0,   0,   0,   0,   0,   0,   0,   0,   0,   0,   0,   0,   0,\n",
       "          0,   0,   0,   0, 169, 254,  57,   0,   0,   0,   0,   0,   0,\n",
       "          0,   0],\n",
       "       [  0,   0,   0,   0,   0,   0,   0,   0,   0,   0,   0,   0,   0,\n",
       "          0,   0,   0,   0, 169, 254,  57,   0,   0,   0,   0,   0,   0,\n",
       "          0,   0],\n",
       "       [  0,   0,   0,   0,   0,   0,   0,   0,   0,   0,   0,   0,   0,\n",
       "          0,   0,   0,   0, 169, 255,  94,   0,   0,   0,   0,   0,   0,\n",
       "          0,   0],\n",
       "       [  0,   0,   0,   0,   0,   0,   0,   0,   0,   0,   0,   0,   0,\n",
       "          0,   0,   0,   0, 169, 254,  96,   0,   0,   0,   0,   0,   0,\n",
       "          0,   0],\n",
       "       [  0,   0,   0,   0,   0,   0,   0,   0,   0,   0,   0,   0,   0,\n",
       "          0,   0,   0,   0, 169, 254, 153,   0,   0,   0,   0,   0,   0,\n",
       "          0,   0],\n",
       "       [  0,   0,   0,   0,   0,   0,   0,   0,   0,   0,   0,   0,   0,\n",
       "          0,   0,   0,   0, 169, 255, 153,   0,   0,   0,   0,   0,   0,\n",
       "          0,   0],\n",
       "       [  0,   0,   0,   0,   0,   0,   0,   0,   0,   0,   0,   0,   0,\n",
       "          0,   0,   0,   0,  96, 254, 153,   0,   0,   0,   0,   0,   0,\n",
       "          0,   0],\n",
       "       [  0,   0,   0,   0,   0,   0,   0,   0,   0,   0,   0,   0,   0,\n",
       "          0,   0,   0,   0,   0,   0,   0,   0,   0,   0,   0,   0,   0,\n",
       "          0,   0],\n",
       "       [  0,   0,   0,   0,   0,   0,   0,   0,   0,   0,   0,   0,   0,\n",
       "          0,   0,   0,   0,   0,   0,   0,   0,   0,   0,   0,   0,   0,\n",
       "          0,   0],\n",
       "       [  0,   0,   0,   0,   0,   0,   0,   0,   0,   0,   0,   0,   0,\n",
       "          0,   0,   0,   0,   0,   0,   0,   0,   0,   0,   0,   0,   0,\n",
       "          0,   0]], dtype=uint8)"
      ]
     },
     "execution_count": 3,
     "metadata": {},
     "output_type": "execute_result"
    }
   ],
   "source": [
    "#returns the second image in the training dataset in three dimensional view\n",
    "X_train_digit[2]"
   ]
  },
  {
   "cell_type": "code",
   "execution_count": 4,
   "id": "f0488c3d-2909-4937-8281-03b05e1dc1c2",
   "metadata": {},
   "outputs": [
    {
     "data": {
      "text/plain": [
       "array([7, 2, 1, ..., 4, 5, 6], dtype=uint8)"
      ]
     },
     "execution_count": 4,
     "metadata": {},
     "output_type": "execute_result"
    }
   ],
   "source": [
    "#displays the digits to be classified\n",
    "y_test_digit"
   ]
  },
  {
   "cell_type": "code",
   "execution_count": 5,
   "id": "b07f03a9-c4ed-4358-bb2d-09daf8eb0360",
   "metadata": {},
   "outputs": [
    {
     "data": {
      "text/plain": [
       "2"
      ]
     },
     "execution_count": 5,
     "metadata": {},
     "output_type": "execute_result"
    }
   ],
   "source": [
    "y_test_digit[1]"
   ]
  },
  {
   "cell_type": "code",
   "execution_count": 8,
   "id": "3e7eabf0-2e19-442d-8f11-57da7de2a398",
   "metadata": {},
   "outputs": [
    {
     "data": {
      "image/png": "[encoded data removed]",
      "text/plain": [
       "<Figure size 1000x1000 with 15 Axes>"
      ]
     },
     "metadata": {},
     "output_type": "display_data"
    }
   ],
   "source": [
    "#assigning names to each digits in the dataset\n",
    "col_names = ['Zero','One','Two','Three','Four','Five','Six','Seven','Eight','Nine']\n",
    "\n",
    "#Visualizing the digits\n",
    "plt.figure(figsize=(10,10))\n",
    "# looping over first 15 digits in the dataset\n",
    "for i in range(15):\n",
    "    #organize the digits into subplots in a 5x5 grid.\n",
    "    plt.subplot(5,5,i+1)\n",
    "    plt.xticks([])\n",
    "    plt.yticks([])\n",
    "    #show the digit image in each subplot\n",
    "    plt.imshow(X_train_digit[i], cmap='gray')\n",
    "    #label at the bottom of each subplot showing which digit it represents.\n",
    "    plt.xlabel(col_names[y_train_digit[i]])\n",
    "plt.show()"
   ]
  },
  {
   "cell_type": "code",
   "execution_count": 9,
   "id": "3d579cb4-4831-4c60-88fe-b6bbeea01c81",
   "metadata": {},
   "outputs": [
    {
     "data": {
      "text/plain": [
       "(60000, 28, 28)"
      ]
     },
     "execution_count": 9,
     "metadata": {},
     "output_type": "execute_result"
    }
   ],
   "source": [
    "#shape of the training dataset-3D view\n",
    "X_train_digit.shape"
   ]
  },
  {
   "cell_type": "code",
   "execution_count": 10,
   "id": "a1683d43-01ba-4e71-b11c-a806fd385935",
   "metadata": {},
   "outputs": [
    {
     "data": {
      "text/plain": [
       "(60000,)"
      ]
     },
     "execution_count": 10,
     "metadata": {},
     "output_type": "execute_result"
    }
   ],
   "source": [
    "y_train_digit.shape"
   ]
  },
  {
   "cell_type": "code",
   "execution_count": 11,
   "id": "50a09725-b803-4480-95a0-74a7f0901c0c",
   "metadata": {},
   "outputs": [
    {
     "data": {
      "text/plain": [
       "(10000, 28, 28)"
      ]
     },
     "execution_count": 11,
     "metadata": {},
     "output_type": "execute_result"
    }
   ],
   "source": [
    "X_test_digit.shape"
   ]
  },
  {
   "cell_type": "code",
   "execution_count": 12,
   "id": "9e34c3ac-874e-4aa7-9c65-b1e5ef021f47",
   "metadata": {},
   "outputs": [
    {
     "data": {
      "text/plain": [
       "(10000,)"
      ]
     },
     "execution_count": 12,
     "metadata": {},
     "output_type": "execute_result"
    }
   ],
   "source": [
    "y_test_digit.shape"
   ]
  },
  {
   "cell_type": "markdown",
   "id": "2f3411bc-9c7f-4fcb-b2f4-474c3303e2c6",
   "metadata": {},
   "source": [
    "# Preprocessing the input- Converting three dimension to two dimension"
   ]
  },
  {
   "cell_type": "code",
   "execution_count": 13,
   "id": "f6543ad0-9c40-463a-8660-34cbf30306a8",
   "metadata": {},
   "outputs": [],
   "source": [
    "#ANN works for two dimensional dataset\n",
    "#converting training and testing input data to 2D format\n",
    "X_train_digit = X_train_digit.reshape(60000, 784)\n",
    "X_test_digit = X_test_digit.reshape(10000, 784)"
   ]
  },
  {
   "cell_type": "code",
   "execution_count": 14,
   "id": "3c93412e-54e8-4bf7-8deb-d0a9d6402aed",
   "metadata": {},
   "outputs": [
    {
     "data": {
      "text/plain": [
       "array([[0, 0, 0, ..., 0, 0, 0],\n",
       "       [0, 0, 0, ..., 0, 0, 0],\n",
       "       [0, 0, 0, ..., 0, 0, 0],\n",
       "       ...,\n",
       "       [0, 0, 0, ..., 0, 0, 0],\n",
       "       [0, 0, 0, ..., 0, 0, 0],\n",
       "       [0, 0, 0, ..., 0, 0, 0]], dtype=uint8)"
      ]
     },
     "execution_count": 14,
     "metadata": {},
     "output_type": "execute_result"
    }
   ],
   "source": [
    "X_test_digit"
   ]
  },
  {
   "cell_type": "code",
   "execution_count": 15,
   "id": "a506af50-4626-4a61-9464-49ea8772ca7d",
   "metadata": {},
   "outputs": [
    {
     "data": {
      "text/plain": [
       "array([7, 2, 1, ..., 4, 5, 6], dtype=uint8)"
      ]
     },
     "execution_count": 15,
     "metadata": {},
     "output_type": "execute_result"
    }
   ],
   "source": [
    "y_test_digit"
   ]
  },
  {
   "cell_type": "code",
   "execution_count": 16,
   "id": "e6dbe6f5-28c1-4529-9851-22716953d3be",
   "metadata": {},
   "outputs": [],
   "source": [
    "#Encoding Digit MNIST Labels\n",
    "#ANN output shape should be in one hot encoding format\n",
    "#converting the output digits into one hot encoding format\n",
    "y_train_digit = to_categorical(y_train_digit, num_classes=10)\n",
    "y_test_digit = to_categorical(y_test_digit, num_classes=10)"
   ]
  },
  {
   "cell_type": "code",
   "execution_count": 17,
   "id": "aa5340a3-b13a-4a9b-b17c-5225402f8717",
   "metadata": {},
   "outputs": [
    {
     "data": {
      "text/plain": [
       "array([[0., 0., 0., ..., 0., 0., 0.],\n",
       "       [1., 0., 0., ..., 0., 0., 0.],\n",
       "       [0., 0., 0., ..., 0., 0., 0.],\n",
       "       ...,\n",
       "       [0., 0., 0., ..., 0., 0., 0.],\n",
       "       [0., 0., 0., ..., 0., 0., 0.],\n",
       "       [0., 0., 0., ..., 0., 1., 0.]], dtype=float32)"
      ]
     },
     "execution_count": 17,
     "metadata": {},
     "output_type": "execute_result"
    }
   ],
   "source": [
    "y_train_digit"
   ]
  },
  {
   "cell_type": "markdown",
   "id": "945cfeec-8c3c-4939-83ee-2ab5de78b8bb",
   "metadata": {},
   "source": [
    "# 1. Brain Creation"
   ]
  },
  {
   "cell_type": "code",
   "execution_count": 18,
   "id": "96f933ba-38e6-41dc-bcda-b1cd7095b01e",
   "metadata": {},
   "outputs": [],
   "source": [
    "#Creating base neural network\n",
    "#sequential - next layers (one by one)\n",
    "#784 neurons connected with next hidden layer with activation func 'relu' - checks whether the neuron holds valid information\n",
    "#last layer is the output layer which has 10 neurons and a sigmoid function which gives the output between 0 and 1\n",
    "model = keras.Sequential([\n",
    "    layers.Dense(256, activation='relu', input_shape=(784,)),\n",
    "    #layers.Dropout(0.3),\n",
    "    #layers.BatchNormalization(),\n",
    "    layers.Dense(64, activation='relu'),\n",
    "    #layers.Dropout(0.3),\n",
    "    #layers.BatchNormalization(),\n",
    "    layers.Dense(64, activation='relu'),\n",
    "    #layers.Dropout(0.3),\n",
    "    #layers.BatchNormalization(),\n",
    "    layers.Dense(10,activation='sigmoid'),\n",
    "])"
   ]
  },
  {
   "cell_type": "code",
   "execution_count": 19,
   "id": "84663c3f-01b8-40e6-8558-04d5f2f48f6b",
   "metadata": {},
   "outputs": [
    {
     "name": "stdout",
     "output_type": "stream",
     "text": [
      "Model: \"sequential\"\n",
      "_________________________________________________________________\n",
      " Layer (type)                Output Shape              Param #   \n",
      "=================================================================\n",
      " dense (Dense)               (None, 256)               200960    \n",
      "                                                                 \n",
      " dense_1 (Dense)             (None, 64)                16448     \n",
      "                                                                 \n",
      " dense_2 (Dense)             (None, 64)                4160      \n",
      "                                                                 \n",
      " dense_3 (Dense)             (None, 10)                650       \n",
      "                                                                 \n",
      "=================================================================\n",
      "Total params: 222,218\n",
      "Trainable params: 222,218\n",
      "Non-trainable params: 0\n",
      "_________________________________________________________________\n"
     ]
    }
   ],
   "source": [
    "#summary of the base network\n",
    "#parameter= output channel number* (input channel number+1)\n",
    "#784 neurons - 256 neurons(hidden layer1) |256*(784+1)=200960\n",
    "#256 neurons - 64 neurons(hidden layer2)|64*(256+1)=16448\n",
    "#64 neurons - 64 neurons(hidden layer3)|64*(64+1)=4160\n",
    "#64 neurons - 10 neurons(output layer)|10*(64+1)=650\n",
    "model.summary()"
   ]
  },
  {
   "cell_type": "markdown",
   "id": "d44d221d-03d1-4335-86d3-0688f207fc48",
   "metadata": {},
   "source": [
    "# 2. Compilation"
   ]
  },
  {
   "cell_type": "code",
   "execution_count": 20,
   "id": "622572e9-6792-4a4e-857b-52153a0095c8",
   "metadata": {},
   "outputs": [],
   "source": [
    "#Compiling the model\n",
    "#checks the difference between actual and the predicted value\n",
    "#optimizer algorithm that adjusts the weights of the network to minimize the loss function\n",
    "#metrics are used to validate the performance of the model\n",
    "model.compile(loss=\"categorical_crossentropy\",\n",
    "              optimizer=\"adam\",\n",
    "              metrics = ['accuracy'])"
   ]
  },
  {
   "cell_type": "markdown",
   "id": "708c5bc2-3b63-45f0-a186-39f8357c6db4",
   "metadata": {},
   "source": [
    "# 3. Fit the model"
   ]
  },
  {
   "cell_type": "code",
   "execution_count": 21,
   "id": "a3c68538-0b8a-47f2-a16f-699d09389dfe",
   "metadata": {},
   "outputs": [
    {
     "name": "stdout",
     "output_type": "stream",
     "text": [
      "Epoch 1/10\n",
      "600/600 [==============================] - 20s 24ms/step - loss: 1.5345 - accuracy: 0.8669 - val_loss: 0.4206 - val_accuracy: 0.9169\n",
      "Epoch 2/10\n",
      "600/600 [==============================] - 13s 22ms/step - loss: 0.2481 - accuracy: 0.9395 - val_loss: 0.2475 - val_accuracy: 0.9434\n",
      "Epoch 3/10\n",
      "600/600 [==============================] - 10s 17ms/step - loss: 0.1580 - accuracy: 0.9568 - val_loss: 0.2105 - val_accuracy: 0.9508\n",
      "Epoch 4/10\n",
      "600/600 [==============================] - 9s 15ms/step - loss: 0.1213 - accuracy: 0.9648 - val_loss: 0.1808 - val_accuracy: 0.9545\n",
      "Epoch 5/10\n",
      "600/600 [==============================] - 11s 18ms/step - loss: 0.1014 - accuracy: 0.9706 - val_loss: 0.1816 - val_accuracy: 0.9556\n",
      "Epoch 6/10\n",
      "600/600 [==============================] - 8s 13ms/step - loss: 0.0963 - accuracy: 0.9709 - val_loss: 0.1766 - val_accuracy: 0.9564\n",
      "Epoch 7/10\n",
      "600/600 [==============================] - 7s 12ms/step - loss: 0.0859 - accuracy: 0.9748 - val_loss: 0.1699 - val_accuracy: 0.9625\n",
      "Epoch 8/10\n",
      "600/600 [==============================] - 7s 11ms/step - loss: 0.0755 - accuracy: 0.9775 - val_loss: 0.1481 - val_accuracy: 0.9650\n",
      "Epoch 9/10\n",
      "600/600 [==============================] - 7s 12ms/step - loss: 0.0735 - accuracy: 0.9792 - val_loss: 0.1609 - val_accuracy: 0.9650\n",
      "Epoch 10/10\n",
      "600/600 [==============================] - 11s 19ms/step - loss: 0.0683 - accuracy: 0.9799 - val_loss: 0.1769 - val_accuracy: 0.9644\n"
     ]
    }
   ],
   "source": [
    "#the training is done based on the given training input and output images\n",
    "#batch_size represents the number of samples used in each iteration of training\n",
    "#epochs represent the number of times the entire dataset(feed forward and Back propagation) is passed through the algorithm. \n",
    "history=model.fit(X_train_digit, y_train_digit, batch_size=100, epochs=10,validation_data=(X_test_digit, y_test_digit))"
   ]
  },
  {
   "cell_type": "code",
   "execution_count": 22,
   "id": "a0014c80-2d42-4cae-94a7-8f3fcad3792d",
   "metadata": {},
   "outputs": [
    {
     "name": "stdout",
     "output_type": "stream",
     "text": [
      "313/313 [==============================] - 3s 8ms/step\n"
     ]
    }
   ],
   "source": [
    "#Predicting the digits\n",
    "y_predict = model.predict(X_test_digit)"
   ]
  },
  {
   "cell_type": "code",
   "execution_count": 24,
   "id": "db604a18-27f8-4096-bd71-b5f433c36645",
   "metadata": {},
   "outputs": [
    {
     "data": {
      "text/plain": [
       "array([9.9933982e-01, 1.0000000e+00, 1.0000000e+00, 9.9999869e-01,\n",
       "       2.0164516e-02, 9.4829541e-01, 9.9909407e-01, 9.9969816e-01,\n",
       "       9.9998337e-01, 6.1659300e-04], dtype=float32)"
      ]
     },
     "execution_count": 24,
     "metadata": {},
     "output_type": "execute_result"
    }
   ],
   "source": [
    "#shows the highest probability of each image\n",
    "#It is difficult to find the exact number\n",
    "y_predict[1]"
   ]
  },
  {
   "cell_type": "code",
   "execution_count": 26,
   "id": "813be80c-d694-42bd-9124-0ce40db29bb9",
   "metadata": {},
   "outputs": [],
   "source": [
    "#predicted test set data is passed to the argmax() function which returns the maximum value \n",
    "y_predicts=np.argmax(y_predict, axis=1) # Here we get the index of maximum value in the encoded vector\n"
   ]
  },
  {
   "cell_type": "code",
   "execution_count": 35,
   "id": "97567b40-c1a3-48d1-b806-8521ec55504c",
   "metadata": {},
   "outputs": [
    {
     "data": {
      "text/plain": [
       "0"
      ]
     },
     "execution_count": 35,
     "metadata": {},
     "output_type": "execute_result"
    }
   ],
   "source": [
    "#exact number is returned\n",
    "y_predicts[3]"
   ]
  },
  {
   "cell_type": "code",
   "execution_count": null,
   "id": "1e67273e-6549-49f1-9c07-d96f94910b82",
   "metadata": {},
   "outputs": [],
   "source": [
    "#test_loss_digit, test_acc_digit = model.evaluate(X_test_digit, y_test_digit)"
   ]
  },
  {
   "cell_type": "code",
   "execution_count": 28,
   "id": "521f7319-e3d3-496d-b0ff-8c6ba242ca7b",
   "metadata": {},
   "outputs": [],
   "source": [
    "#actual test set data is passed to the argmax() function\n",
    "y_test_digit_eval=np.argmax(y_test_digit, axis=1)"
   ]
  },
  {
   "cell_type": "code",
   "execution_count": 29,
   "id": "ec1cce51-b871-4b8b-8327-f78cd6e3520a",
   "metadata": {},
   "outputs": [
    {
     "data": {
      "text/plain": [
       "array([7, 2, 1, ..., 4, 5, 6], dtype=int64)"
      ]
     },
     "execution_count": 29,
     "metadata": {},
     "output_type": "execute_result"
    }
   ],
   "source": [
    "y_test_digit_eval"
   ]
  },
  {
   "cell_type": "code",
   "execution_count": 30,
   "id": "33aa6060-6faf-4466-88e4-6055255e2e8e",
   "metadata": {},
   "outputs": [],
   "source": [
    "#converting y_predicts values into a dataframe\n",
    "y_pre=pd.DataFrame(y_predicts)"
   ]
  },
  {
   "cell_type": "code",
   "execution_count": 31,
   "id": "e0a3bfa6-7c53-4b08-9f0a-b083c4973bd7",
   "metadata": {},
   "outputs": [
    {
     "data": {
      "text/html": [
       "<div>\n",
       "<style scoped>\n",
       "    .dataframe tbody tr th:only-of-type {\n",
       "        vertical-align: middle;\n",
       "    }\n",
       "\n",
       "    .dataframe tbody tr th {\n",
       "        vertical-align: top;\n",
       "    }\n",
       "\n",
       "    .dataframe thead th {\n",
       "        text-align: right;\n",
       "    }\n",
       "</style>\n",
       "<table border=\"1\" class=\"dataframe\">\n",
       "  <thead>\n",
       "    <tr style=\"text-align: right;\">\n",
       "      <th></th>\n",
       "      <th>0</th>\n",
       "    </tr>\n",
       "  </thead>\n",
       "  <tbody>\n",
       "    <tr>\n",
       "      <th>0</th>\n",
       "      <td>3</td>\n",
       "    </tr>\n",
       "    <tr>\n",
       "      <th>1</th>\n",
       "      <td>1</td>\n",
       "    </tr>\n",
       "    <tr>\n",
       "      <th>2</th>\n",
       "      <td>1</td>\n",
       "    </tr>\n",
       "    <tr>\n",
       "      <th>3</th>\n",
       "      <td>0</td>\n",
       "    </tr>\n",
       "    <tr>\n",
       "      <th>4</th>\n",
       "      <td>4</td>\n",
       "    </tr>\n",
       "    <tr>\n",
       "      <th>...</th>\n",
       "      <td>...</td>\n",
       "    </tr>\n",
       "    <tr>\n",
       "      <th>9995</th>\n",
       "      <td>1</td>\n",
       "    </tr>\n",
       "    <tr>\n",
       "      <th>9996</th>\n",
       "      <td>3</td>\n",
       "    </tr>\n",
       "    <tr>\n",
       "      <th>9997</th>\n",
       "      <td>4</td>\n",
       "    </tr>\n",
       "    <tr>\n",
       "      <th>9998</th>\n",
       "      <td>5</td>\n",
       "    </tr>\n",
       "    <tr>\n",
       "      <th>9999</th>\n",
       "      <td>6</td>\n",
       "    </tr>\n",
       "  </tbody>\n",
       "</table>\n",
       "<p>10000 rows × 1 columns</p>\n",
       "</div>"
      ],
      "text/plain": [
       "      0\n",
       "0     3\n",
       "1     1\n",
       "2     1\n",
       "3     0\n",
       "4     4\n",
       "...  ..\n",
       "9995  1\n",
       "9996  3\n",
       "9997  4\n",
       "9998  5\n",
       "9999  6\n",
       "\n",
       "[10000 rows x 1 columns]"
      ]
     },
     "execution_count": 31,
     "metadata": {},
     "output_type": "execute_result"
    }
   ],
   "source": [
    "y_pre"
   ]
  },
  {
   "cell_type": "code",
   "execution_count": 36,
   "id": "a75f20de-4837-4d50-8248-3202bf00855e",
   "metadata": {},
   "outputs": [
    {
     "data": {
      "text/plain": [
       "array([7, 2, 1, ..., 4, 5, 6], dtype=int64)"
      ]
     },
     "execution_count": 36,
     "metadata": {},
     "output_type": "execute_result"
    }
   ],
   "source": [
    "y_test_digit_eval"
   ]
  },
  {
   "cell_type": "code",
   "execution_count": 37,
   "id": "454f9a0f-9897-4263-8487-f271f7274125",
   "metadata": {},
   "outputs": [
    {
     "name": "stderr",
     "output_type": "stream",
     "text": [
      "C:\\Users\\Admin\\AppData\\Local\\Temp\\ipykernel_8996\\924251084.py:4: MatplotlibDeprecationWarning: The seaborn styles shipped by Matplotlib are deprecated since 3.6, as they no longer correspond to the styles shipped by seaborn. However, they will remain available as 'seaborn-v0_8-<style>'. Alternatively, directly use the seaborn API instead.\n",
      "  plt.style.use('seaborn-deep')\n"
     ]
    },
    {
     "data": {
      "image/png": "[encoded data removed]",
      "text/plain": [
       "<Figure size 1000x1000 with 2 Axes>"
      ]
     },
     "metadata": {},
     "output_type": "display_data"
    }
   ],
   "source": [
    "#Confusion matrix for Digit MNIST\n",
    "#confusion matrix for actual and predicted data\n",
    "con_mat=confusion_matrix(y_test_digit_eval,y_predicts)\n",
    "plt.style.use('seaborn-deep')\n",
    "plt.figure(figsize=(10,10))\n",
    "#heat map highlights the correctly and wrongly classified data\n",
    "#the values in the diagonal line are correctly classified \n",
    "#annot means annotation - adding labels to each cell of the heatmap with fontsize=15, gray color map,fmt specifies the type of annotation\n",
    "sns.heatmap(con_mat,annot=True,annot_kws={'size': 15},linewidths=0.5,fmt=\"d\",cmap=\"gray\")\n",
    "plt.title('True or False predicted digit MNIST\\n',fontweight='bold',fontsize=15)\n",
    "plt.show()"
   ]
  },
  {
   "cell_type": "code",
   "execution_count": 38,
   "id": "657cc8a7-e290-4c13-b93e-e79b396d8320",
   "metadata": {},
   "outputs": [
    {
     "name": "stdout",
     "output_type": "stream",
     "text": [
      "              precision    recall  f1-score   support\n",
      "\n",
      "           0       0.88      0.98      0.93       980\n",
      "           1       0.73      0.99      0.84      1135\n",
      "           2       0.86      0.51      0.64      1032\n",
      "           3       0.62      0.95      0.75      1010\n",
      "           4       0.89      0.96      0.92       982\n",
      "           5       0.88      0.87      0.87       892\n",
      "           6       0.98      0.95      0.96       958\n",
      "           7       0.85      0.45      0.59      1028\n",
      "           8       0.97      0.94      0.95       974\n",
      "           9       0.98      0.85      0.91      1009\n",
      "\n",
      "    accuracy                           0.84     10000\n",
      "   macro avg       0.86      0.84      0.84     10000\n",
      "weighted avg       0.86      0.84      0.83     10000\n",
      "\n"
     ]
    }
   ],
   "source": [
    "#classification report\n",
    "from sklearn.metrics import classification_report\n",
    "print(classification_report(y_test_digit_eval,y_predicts))"
   ]
  },
  {
   "cell_type": "markdown",
   "id": "28d50209-66b7-4e5f-97fe-274417f38129",
   "metadata": {},
   "source": [
    "# if the accuracy is not good,hypertune the parameters to get the best result(accuracy)"
   ]
  },
  {
   "cell_type": "code",
   "execution_count": 39,
   "id": "c87386e8-282f-4b20-8561-2662fc393ec4",
   "metadata": {},
   "outputs": [
    {
     "data": {
      "image/png": "[encoded data removed]",
      "text/plain": [
       "<Figure size 640x480 with 1 Axes>"
      ]
     },
     "metadata": {},
     "output_type": "display_data"
    }
   ],
   "source": [
    "#Graph for model accuracy between epoch and accuracy\n",
    "plt.plot(history.history['accuracy'])\n",
    "plt.plot(history.history['val_accuracy'])\n",
    "plt.title('model accuracy')\n",
    "plt.ylabel('accuracy')\n",
    "plt.xlabel('epoch')\n",
    "plt.legend(['train', 'test'], loc='best')\n",
    "plt.show()"
   ]
  },
  {
   "cell_type": "code",
   "execution_count": 40,
   "id": "f259dc43-b399-466d-840a-656192292830",
   "metadata": {},
   "outputs": [
    {
     "data": {
      "image/png": "[encoded data removed]",
      "text/plain": [
       "<Figure size 640x480 with 1 Axes>"
      ]
     },
     "metadata": {},
     "output_type": "display_data"
    }
   ],
   "source": [
    "#graph for model loss between epoch and loss\n",
    "plt.plot(history.history['loss'])\n",
    "plt.plot(history.history['val_loss'])\n",
    "plt.title('model loss')\n",
    "plt.ylabel('loss')\n",
    "plt.xlabel('epoch')\n",
    "plt.legend(['train', 'test'], loc='best')\n",
    "plt.show()"
   ]
  },
  {
   "cell_type": "code",
   "execution_count": 41,
   "id": "a2027b82-79d8-4c3c-af1a-3e208aa8c6ad",
   "metadata": {},
   "outputs": [
    {
     "name": "stdout",
     "output_type": "stream",
     "text": [
      "1/1 [==============================] - 0s 137ms/step\n"
     ]
    }
   ],
   "source": [
    "#predicting a single image to deploy to the end users\n",
    "y_predict_single = model.predict(X_test_digit[[2]])\n",
    "y_predicts_single=np.argmax(y_predict_single, axis=1) #represents the predicted class label for the image\n",
    "y_test_digit_eval=np.argmax(y_test_digit, axis=1) #converts one-hot encoded labels into their corresponding class indices."
   ]
  },
  {
   "cell_type": "code",
   "execution_count": 42,
   "id": "ce63edcb-50dd-4984-9976-75729753604f",
   "metadata": {},
   "outputs": [
    {
     "data": {
      "text/plain": [
       "1"
      ]
     },
     "execution_count": 42,
     "metadata": {},
     "output_type": "execute_result"
    }
   ],
   "source": [
    "y_predicts_single[0]"
   ]
  },
  {
   "cell_type": "code",
   "execution_count": 43,
   "id": "8192c7f0-d44c-491e-98b8-11af15045961",
   "metadata": {},
   "outputs": [
    {
     "data": {
      "image/png": "[encoded data removed]",
      "text/plain": [
       "<Figure size 640x480 with 1 Axes>"
      ]
     },
     "metadata": {},
     "output_type": "display_data"
    }
   ],
   "source": [
    "#Names of numbers in the dataset in order\n",
    "col_names = ['Zero','One','Two','Three','Four','Five','Six','Seven','Eight','Nine']\n",
    "\n",
    "#Visualizing the digits\n",
    "#plt.figure(figsize=(10,10))\n",
    "plt.imshow(X_test_digit[2].reshape(28,28), cmap='gray') # reshapes the 1D array of pixel values into a 28x28 grid and shows the number\n",
    "plt.xlabel(\"Actual:{},Pred:{}\".format(col_names[np.argmax(y_test_digit[2])],col_names[y_predicts_single[0]])) # It includes the actual label and the predicted label for the third digit\n",
    "plt.show()"
   ]
  },
  {
   "cell_type": "code",
   "execution_count": 44,
   "id": "f6737dcf-ac4a-44d1-b4dc-7edc2da45010",
   "metadata": {},
   "outputs": [
    {
     "data": {
      "text/plain": [
       "array([0., 0., 0., 0., 0., 0., 0., 0., 0., 1.], dtype=float32)"
      ]
     },
     "execution_count": 44,
     "metadata": {},
     "output_type": "execute_result"
    }
   ],
   "source": [
    "y_test_digit[7]"
   ]
  },
  {
   "cell_type": "code",
   "execution_count": null,
   "id": "990a8004-1e2d-4e5f-8bf4-98f0dffe38e2",
   "metadata": {},
   "outputs": [],
   "source": []
  }
 ],
 "metadata": {
  "kernelspec": {
   "display_name": "Python 3 (ipykernel)",
   "language": "python",
   "name": "python3"
  },
  "language_info": {
   "codemirror_mode": {
    "name": "ipython",
    "version": 3
   },
   "file_extension": ".py",
   "mimetype": "text/x-python",
   "name": "python",
   "nbconvert_exporter": "python",
   "pygments_lexer": "ipython3",
   "version": "3.11.0"
  }
 },
 "nbformat": 4,
 "nbformat_minor": 5
}
